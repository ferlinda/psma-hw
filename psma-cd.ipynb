{
  "nbformat": 4,
  "nbformat_minor": 0,
  "metadata": {
    "colab": {
      "name": "PSMA-HW2.ipynb",
      "provenance": []
    },
    "kernelspec": {
      "name": "python3",
      "display_name": "Python 3"
    },
    "language_info": {
      "name": "python"
    }
  },
    {
      "cell_type": "markdown",
      "source": [
        "## Import Libraries"
      ],
      "metadata": {
        "id": "BDiEU2bU4AaW"
      }
    },
    {
      "cell_type": "code",
      "execution_count": 10,
      "metadata": {
        "colab": {
          "base_uri": "https://localhost:8080/"
        },
        "id": "cEemp9Tj1h4n",
        "outputId": "687717b4-911f-4923-e511-32e184c71af1"
      },
      "outputs": [
        {
          "output_type": "stream",
          "name": "stdout",
          "text": [
            "Drive already mounted at /content/drive; to attempt to forcibly remount, call drive.mount(\"/content/drive\", force_remount=True).\n"
          ]
        }
      ],
      "source": [
        "from google.colab import drive\n",
        "drive.mount('/content/drive')\n",
        "\n",
        "import networkx as nx\n",
        "import csv\n",
        "from itertools import zip_longest\n",
        "from csv import writer, reader\n",
        "from networkx.algorithms import community\n",
        "from community import community_louvain"
      ]
    },
    {
      "cell_type": "markdown",
      "source": [
        "## Build Graph from train.csv"
      ],
      "metadata": {
        "id": "DZzl6-B14JDk"
      }
    },
    {
      "cell_type": "code",
      "source": [
        "G = nx.Graph()\n",
        "r = csv.reader(open('/content/drive/My Drive/train.csv','r'))\n",
        "edges = []\n",
        "count=0\n",
        "for edge in r: \n",
        "    if count!=0:\n",
        "        edges.append((int(edge[0]), int(edge[1])))\n",
        "    count=1\n",
        "G.add_edges_from(edges)"
      ],
      "metadata": {
        "id": "jt6WF2i71stE"
      },
      "execution_count": 7,
      "outputs": []
    },
    {
      "cell_type": "markdown",
      "source": [
        "## Use Louvain algorithm to find community for the graph"
      ],
      "metadata": {
        "id": "Ji-CzZjw4bw1"
      }
    },
    {
      "cell_type": "code",
      "source": [
        "partition = community_louvain.best_partition(G)\n",
        "\n",
        "node_list=[]\n",
        "community_list=[]\n",
        "for key, value in partition.items():\n",
        "    node_list.append(key)\n",
        "    community_list.append(value)"
      ],
      "metadata": {
        "id": "KrloJ3e81wf6"
      },
      "execution_count": 12,
      "outputs": []
    },
    {
      "cell_type": "markdown",
      "source": [
        "## Use Asynchronous fluid communities algorithm to find community for the graph"
      ],
      "metadata": {
        "id": "MjvfiWl24mYQ"
      }
    },
    {
      "cell_type": "code",
      "source": [
        "partition2=nx.algorithms.community.asyn_fluidc(G,len(set(community_list)))\n",
        "\n",
        "temp_dict = {}\n",
        "for idx, val in enumerate(partition2):\n",
        "    for k in val:\n",
        "        temp_dict[k] = idx\n",
        "\n",
        "node_list_2=[]\n",
        "community_list_2=[]\n",
        "for key, value in temp_dict.items():\n",
        "    node_list_2.append(key)\n",
        "    community_list_2.append(value)"
      ],
      "metadata": {
        "id": "1mBPjZubJ49Z"
      },
      "execution_count": 19,
      "outputs": []
    },
    {
      "cell_type": "markdown",
      "source": [
        "## Prepare Data test.csv to be predicted"
      ],
      "metadata": {
        "id": "xHdyUtV74ZGJ"
      }
    },
    {
      "cell_type": "code",
      "source": [
        "r = csv.reader(open('/content/drive/My Drive/test.csv','r'))\n",
        "edges = []\n",
        "count=0\n",
        "for edge in r: \n",
        "    if count!=0:\n",
        "        edges.append((int(edge[1]), int(edge[2])))\n",
        "    count=1\n",
        "index=[]\n",
        "\n",
        "for i in range(0,len(edges)):\n",
        "  index.append(i)"
      ],
      "metadata": {
        "id": "v88hB8gg15Tj"
      },
      "execution_count": 17,
      "outputs": []
    },
    {
      "cell_type": "markdown",
      "source": [
        "## Compare Data test.csv to result of community detection algorithms"
      ],
      "metadata": {
        "id": "BwSOTHoSKDoy"
      }
    },
    {
      "cell_type": "code",
      "source": [
        "ans=[]\n",
        "for edge in edges:\n",
        "    if community_list[node_list.index(edge[0])]!=community_list[node_list.index(edge[1])]:\n",
        "      ans.append(0)\n",
        "    else:\n",
        "      ans.append(1)"
      ],
      "metadata": {
        "id": "hnLQG-kN-ZfM"
      },
      "execution_count": 18,
      "outputs": []
    },
    {
      "cell_type": "code",
      "source": [
        "ans2=[]\n",
        "for edge in edges:\n",
        "    if community_list_2[node_list_2.index(edge[0])]!=community_list_2[node_list_2.index(edge[1])]:\n",
        "      ans2.append(0)\n",
        "    else:\n",
        "      ans2.append(1)"
      ],
      "metadata": {
        "id": "g_l3-bxI2GVX"
      },
      "execution_count": 20,
      "outputs": []
    },
    {
      "cell_type": "markdown",
      "source": [
        "## Compare the result of two algorithm and decide which pairs belong to different or same community"
      ],
      "metadata": {
        "id": "1auie_0s5G0o"
      }
    },
    {
      "cell_type": "code",
      "source": [
        "ans_prob=[]\n",
        "for i in range(0,len(index)):\n",
        "  ans_sum=ans[i]+ans2[i]\n",
        "  if ans_sum==0:\n",
        "    ans_prob.append(0)\n",
        "  else:\n",
        "    ans_prob.append(1)"
      ],
      "metadata": {
        "id": "vxJiHLW-2U_i"
      },
      "execution_count": 21,
      "outputs": []
    },
    {
      "cell_type": "markdown",
      "source": [
        "## Save result according to the Kaggle format"
      ],
      "metadata": {
        "id": "Gcld0IeW5Ihu"
      }
    },
    {
      "cell_type": "code",
      "source": [
        "d = [index, ans_prob]\n",
        "export_data = zip_longest(*d, fillvalue = '')\n",
        "with open('/content/drive/My Drive/ans1.csv', 'w', encoding=\"ISO-8859-1\", newline='') as myfile:\n",
        "      wr = csv.writer(myfile)\n",
        "      wr.writerow((\"Id\", \"Category\"))\n",
        "      wr.writerows(export_data)\n",
        "myfile.close()"
      ],
      "metadata": {
        "id": "Rlec6L662VlI"
      },
      "execution_count": 22,
      "outputs": []
    }
  ]
}
